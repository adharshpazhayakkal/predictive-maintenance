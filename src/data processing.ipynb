{
 "cells": [
  {
   "cell_type": "code",
   "execution_count": 38,
   "id": "a6dcbbca-d267-4e57-8c63-4352fa0b3690",
   "metadata": {},
   "outputs": [],
   "source": [
    "import pandas as pd\n",
    "from sklearn.model_selection import train_test_split\n",
    "\n",
    "    # Load the dataset\n",
    "data = pd.read_csv('predictive_maintenance.csv')\n",
    "    \n",
    "    # Correct the 'Target' column based on 'Failure Type'\n",
    "data.loc[data['Failure Type'] == 'Random Failures', 'Target'] = 1\n",
    "data.loc[data['Failure Type'] == 'No Failure', 'Target'] = 0\n",
    "    \n",
    "    # Drop the 'Type' and 'Failure Type' columns\n",
    "data = data.drop(columns=['Type', 'Failure Type'])\n",
    "    \n",
    "    # Split data into features and target\n",
    "X = data.drop(columns=['Target'])  # Replace 'Target' with your actual target column name if different\n",
    "y = data['Target']  # Ensure 'Target' is the correct column name\n",
    "    \n",
    "    # Split the data into training and testing sets\n",
    "X_train, X_test, y_train, y_test = train_test_split(X, y, test_size=0.3, random_state=42)\n",
    "\n"
   ]
  },
  {
   "cell_type": "code",
   "execution_count": 50,
   "id": "5b255db3-4079-4152-a014-8c7649053eab",
   "metadata": {
    "scrolled": true
   },
   "outputs": [],
   "source": [
    "df=pd.read_csv('predictive_maintenance.csv')"
   ]
  },
  {
   "cell_type": "code",
   "execution_count": 54,
   "id": "ddc9c0b9-95e7-4bdd-9c16-215851dc6c8d",
   "metadata": {},
   "outputs": [
    {
     "data": {
      "text/plain": [
       "UDI                        0\n",
       "Product ID                 0\n",
       "Type                       0\n",
       "Air temperature [K]        0\n",
       "Process temperature [K]    0\n",
       "Rotational speed [rpm]     0\n",
       "Torque [Nm]                0\n",
       "Tool wear [min]            0\n",
       "Target                     0\n",
       "Failure Type               0\n",
       "dtype: int64"
      ]
     },
     "execution_count": 54,
     "metadata": {},
     "output_type": "execute_result"
    }
   ],
   "source": [
    "df.isnull().sum()"
   ]
  },
  {
   "cell_type": "code",
   "execution_count": 52,
   "id": "f55fb005-68ec-42e5-856e-f6575c7bae65",
   "metadata": {},
   "outputs": [
    {
     "data": {
      "text/plain": [
       "Type\n",
       "L    6000\n",
       "M    2997\n",
       "H    1003\n",
       "Name: count, dtype: int64"
      ]
     },
     "execution_count": 52,
     "metadata": {},
     "output_type": "execute_result"
    }
   ],
   "source": [
    "df.Type.value_counts()"
   ]
  },
  {
   "cell_type": "code",
   "execution_count": 40,
   "id": "b4562286-4cb0-45e6-b118-e466260738ef",
   "metadata": {},
   "outputs": [
    {
     "ename": "IndentationError",
     "evalue": "unexpected indent (2019035174.py, line 9)",
     "output_type": "error",
     "traceback": [
      "\u001b[1;36m  Cell \u001b[1;32mIn[40], line 9\u001b[1;36m\u001b[0m\n\u001b[1;33m    with mlflow.start_run():\u001b[0m\n\u001b[1;37m    ^\u001b[0m\n\u001b[1;31mIndentationError\u001b[0m\u001b[1;31m:\u001b[0m unexpected indent\n"
     ]
    }
   ],
   "source": [
    "import mlflow\n",
    "import mlflow.sklearn\n",
    "from sklearn.tree import DecisionTreeClassifier\n",
    "from sklearn.ensemble import RandomForestClassifier\n",
    "from sklearn.linear_model import LogisticRegression\n",
    "\n",
    "    \n",
    "    # Log training with MLflow\n",
    "with mlflow.start_run():\n",
    "        # Train and log Logistic Regression model\n",
    "lr = LogisticRegression()\n",
    "lr.fit(X_train, y_train)\n",
    "mlflow.log_param(\"model\", \"Logistic Regression\")\n",
    "mlflow.log_metric(\"accuracy_train\", lr.score(X_train, y_train))\n",
    "mlflow.log_metric(\"accuracy_test\", lr.score(X_test, y_test))\n",
    "mlflow.sklearn.log_model(lr, \"model_lr\")\n",
    "\n",
    "        # Train and log Decision Tree model\n",
    "dt = DecisionTreeClassifier()\n",
    "dt.fit(X_train, y_train)\n",
    "mlflow.log_param(\"model\", \"Decision Tree\")\n",
    "mlflow.log_metric(\"accuracy_train\", dt.score(X_train, y_train))\n",
    "mlflow.log_metric(\"accuracy_test\", dt.score(X_test, y_test))\n",
    "mlflow.sklearn.log_model(dt, \"model_dt\")\n",
    "\n",
    "        # Train and log Random Forest model\n",
    "        rf = RandomForestClassifier()\n",
    "        rf.fit(X_train, y_train)\n",
    "        mlflow.log_param(\"model\", \"Random Forest\")\n",
    "        mlflow.log_metric(\"accuracy_train\", rf.score(X_train, y_train))\n",
    "        mlflow.log_metric(\"accuracy_test\", rf.score(X_test, y_test))\n",
    "        mlflow.sklearn.log_model(rf, \"model_rf\")\n",
    "\n",
    "if __name__ == \"__main__\":\n",
    "    train_and_log_models()"
   ]
  },
  {
   "cell_type": "code",
   "execution_count": 6,
   "id": "7d420650-0ae8-4078-b204-f8f8930680d5",
   "metadata": {},
   "outputs": [
    {
     "name": "stdout",
     "output_type": "stream",
     "text": [
      "Requirement already satisfied: mlflow in c:\\users\\admin\\anaconda3\\lib\\site-packages (2.15.1)\n",
      "Requirement already satisfied: mlflow-skinny==2.15.1 in c:\\users\\admin\\anaconda3\\lib\\site-packages (from mlflow) (2.15.1)\n",
      "Requirement already satisfied: Flask<4 in c:\\users\\admin\\anaconda3\\lib\\site-packages (from mlflow) (3.0.3)\n",
      "Requirement already satisfied: alembic!=1.10.0,<2 in c:\\users\\admin\\anaconda3\\lib\\site-packages (from mlflow) (1.13.2)\n",
      "Requirement already satisfied: docker<8,>=4.0.0 in c:\\users\\admin\\anaconda3\\lib\\site-packages (from mlflow) (7.1.0)\n",
      "Requirement already satisfied: graphene<4 in c:\\users\\admin\\anaconda3\\lib\\site-packages (from mlflow) (3.3)\n",
      "Requirement already satisfied: markdown<4,>=3.3 in c:\\users\\admin\\anaconda3\\lib\\site-packages (from mlflow) (3.4.1)\n",
      "Requirement already satisfied: matplotlib<4 in c:\\users\\admin\\anaconda3\\lib\\site-packages (from mlflow) (3.8.4)\n",
      "Requirement already satisfied: numpy<2 in c:\\users\\admin\\anaconda3\\lib\\site-packages (from mlflow) (1.26.4)\n",
      "Requirement already satisfied: pandas<3 in c:\\users\\admin\\anaconda3\\lib\\site-packages (from mlflow) (2.2.2)\n",
      "Requirement already satisfied: pyarrow<16,>=4.0.0 in c:\\users\\admin\\anaconda3\\lib\\site-packages (from mlflow) (14.0.2)\n",
      "Requirement already satisfied: querystring-parser<2 in c:\\users\\admin\\anaconda3\\lib\\site-packages (from mlflow) (1.2.4)\n",
      "Requirement already satisfied: scikit-learn<2 in c:\\users\\admin\\anaconda3\\lib\\site-packages (from mlflow) (1.4.2)\n",
      "Requirement already satisfied: scipy<2 in c:\\users\\admin\\anaconda3\\lib\\site-packages (from mlflow) (1.13.1)\n",
      "Requirement already satisfied: sqlalchemy<3,>=1.4.0 in c:\\users\\admin\\anaconda3\\lib\\site-packages (from mlflow) (2.0.30)\n",
      "Requirement already satisfied: Jinja2<4,>=3.0 in c:\\users\\admin\\anaconda3\\lib\\site-packages (from mlflow) (3.1.4)\n",
      "Requirement already satisfied: waitress<4 in c:\\users\\admin\\anaconda3\\lib\\site-packages (from mlflow) (3.0.0)\n",
      "Requirement already satisfied: cachetools<6,>=5.0.0 in c:\\users\\admin\\anaconda3\\lib\\site-packages (from mlflow-skinny==2.15.1->mlflow) (5.3.3)\n",
      "Requirement already satisfied: click<9,>=7.0 in c:\\users\\admin\\anaconda3\\lib\\site-packages (from mlflow-skinny==2.15.1->mlflow) (8.1.7)\n",
      "Requirement already satisfied: cloudpickle<4 in c:\\users\\admin\\anaconda3\\lib\\site-packages (from mlflow-skinny==2.15.1->mlflow) (2.2.1)\n",
      "Requirement already satisfied: databricks-sdk<1,>=0.20.0 in c:\\users\\admin\\anaconda3\\lib\\site-packages (from mlflow-skinny==2.15.1->mlflow) (0.29.0)\n",
      "Requirement already satisfied: entrypoints<1 in c:\\users\\admin\\anaconda3\\lib\\site-packages (from mlflow-skinny==2.15.1->mlflow) (0.4)\n",
      "Requirement already satisfied: gitpython<4,>=3.1.9 in c:\\users\\admin\\anaconda3\\lib\\site-packages (from mlflow-skinny==2.15.1->mlflow) (3.1.37)\n",
      "Requirement already satisfied: importlib-metadata!=4.7.0,<8,>=3.7.0 in c:\\users\\admin\\anaconda3\\lib\\site-packages (from mlflow-skinny==2.15.1->mlflow) (7.0.1)\n",
      "Requirement already satisfied: opentelemetry-api<3,>=1.9.0 in c:\\users\\admin\\anaconda3\\lib\\site-packages (from mlflow-skinny==2.15.1->mlflow) (1.26.0)\n",
      "Requirement already satisfied: opentelemetry-sdk<3,>=1.9.0 in c:\\users\\admin\\anaconda3\\lib\\site-packages (from mlflow-skinny==2.15.1->mlflow) (1.26.0)\n",
      "Requirement already satisfied: packaging<25 in c:\\users\\admin\\anaconda3\\lib\\site-packages (from mlflow-skinny==2.15.1->mlflow) (23.2)\n",
      "Requirement already satisfied: protobuf<6,>=3.12.0 in c:\\users\\admin\\anaconda3\\lib\\site-packages (from mlflow-skinny==2.15.1->mlflow) (3.20.3)\n",
      "Requirement already satisfied: pytz<2025 in c:\\users\\admin\\anaconda3\\lib\\site-packages (from mlflow-skinny==2.15.1->mlflow) (2024.1)\n",
      "Requirement already satisfied: pyyaml<7,>=5.1 in c:\\users\\admin\\anaconda3\\lib\\site-packages (from mlflow-skinny==2.15.1->mlflow) (6.0.1)\n",
      "Requirement already satisfied: requests<3,>=2.17.3 in c:\\users\\admin\\anaconda3\\lib\\site-packages (from mlflow-skinny==2.15.1->mlflow) (2.32.2)\n",
      "Requirement already satisfied: sqlparse<1,>=0.4.0 in c:\\users\\admin\\anaconda3\\lib\\site-packages (from mlflow-skinny==2.15.1->mlflow) (0.5.1)\n",
      "Requirement already satisfied: Mako in c:\\users\\admin\\anaconda3\\lib\\site-packages (from alembic!=1.10.0,<2->mlflow) (1.3.5)\n",
      "Requirement already satisfied: typing-extensions>=4 in c:\\users\\admin\\anaconda3\\lib\\site-packages (from alembic!=1.10.0,<2->mlflow) (4.11.0)\n",
      "Requirement already satisfied: pywin32>=304 in c:\\users\\admin\\appdata\\roaming\\python\\python312\\site-packages (from docker<8,>=4.0.0->mlflow) (306)\n",
      "Requirement already satisfied: urllib3>=1.26.0 in c:\\users\\admin\\anaconda3\\lib\\site-packages (from docker<8,>=4.0.0->mlflow) (2.2.2)\n",
      "Requirement already satisfied: Werkzeug>=3.0.0 in c:\\users\\admin\\anaconda3\\lib\\site-packages (from Flask<4->mlflow) (3.0.3)\n",
      "Requirement already satisfied: itsdangerous>=2.1.2 in c:\\users\\admin\\anaconda3\\lib\\site-packages (from Flask<4->mlflow) (2.2.0)\n",
      "Requirement already satisfied: blinker>=1.6.2 in c:\\users\\admin\\anaconda3\\lib\\site-packages (from Flask<4->mlflow) (1.6.2)\n",
      "Requirement already satisfied: graphql-core<3.3,>=3.1 in c:\\users\\admin\\anaconda3\\lib\\site-packages (from graphene<4->mlflow) (3.2.3)\n",
      "Requirement already satisfied: graphql-relay<3.3,>=3.1 in c:\\users\\admin\\anaconda3\\lib\\site-packages (from graphene<4->mlflow) (3.2.0)\n",
      "Requirement already satisfied: aniso8601<10,>=8 in c:\\users\\admin\\anaconda3\\lib\\site-packages (from graphene<4->mlflow) (9.0.1)\n",
      "Requirement already satisfied: MarkupSafe>=2.0 in c:\\users\\admin\\anaconda3\\lib\\site-packages (from Jinja2<4,>=3.0->mlflow) (2.1.3)\n",
      "Requirement already satisfied: contourpy>=1.0.1 in c:\\users\\admin\\anaconda3\\lib\\site-packages (from matplotlib<4->mlflow) (1.2.0)\n",
      "Requirement already satisfied: cycler>=0.10 in c:\\users\\admin\\anaconda3\\lib\\site-packages (from matplotlib<4->mlflow) (0.11.0)\n",
      "Requirement already satisfied: fonttools>=4.22.0 in c:\\users\\admin\\anaconda3\\lib\\site-packages (from matplotlib<4->mlflow) (4.51.0)\n",
      "Requirement already satisfied: kiwisolver>=1.3.1 in c:\\users\\admin\\anaconda3\\lib\\site-packages (from matplotlib<4->mlflow) (1.4.4)\n",
      "Requirement already satisfied: pillow>=8 in c:\\users\\admin\\anaconda3\\lib\\site-packages (from matplotlib<4->mlflow) (10.3.0)\n",
      "Requirement already satisfied: pyparsing>=2.3.1 in c:\\users\\admin\\anaconda3\\lib\\site-packages (from matplotlib<4->mlflow) (3.0.9)\n",
      "Requirement already satisfied: python-dateutil>=2.7 in c:\\users\\admin\\anaconda3\\lib\\site-packages (from matplotlib<4->mlflow) (2.9.0.post0)\n",
      "Requirement already satisfied: tzdata>=2022.7 in c:\\users\\admin\\anaconda3\\lib\\site-packages (from pandas<3->mlflow) (2023.3)\n",
      "Requirement already satisfied: six in c:\\users\\admin\\anaconda3\\lib\\site-packages (from querystring-parser<2->mlflow) (1.16.0)\n",
      "Requirement already satisfied: joblib>=1.2.0 in c:\\users\\admin\\anaconda3\\lib\\site-packages (from scikit-learn<2->mlflow) (1.4.2)\n",
      "Requirement already satisfied: threadpoolctl>=2.0.0 in c:\\users\\admin\\anaconda3\\lib\\site-packages (from scikit-learn<2->mlflow) (2.2.0)\n",
      "Requirement already satisfied: greenlet!=0.4.17 in c:\\users\\admin\\anaconda3\\lib\\site-packages (from sqlalchemy<3,>=1.4.0->mlflow) (3.0.1)\n",
      "Requirement already satisfied: colorama in c:\\users\\admin\\anaconda3\\lib\\site-packages (from click<9,>=7.0->mlflow-skinny==2.15.1->mlflow) (0.4.6)\n",
      "Requirement already satisfied: google-auth~=2.0 in c:\\users\\admin\\anaconda3\\lib\\site-packages (from databricks-sdk<1,>=0.20.0->mlflow-skinny==2.15.1->mlflow) (2.33.0)\n",
      "Requirement already satisfied: gitdb<5,>=4.0.1 in c:\\users\\admin\\anaconda3\\lib\\site-packages (from gitpython<4,>=3.1.9->mlflow-skinny==2.15.1->mlflow) (4.0.7)\n",
      "Requirement already satisfied: zipp>=0.5 in c:\\users\\admin\\anaconda3\\lib\\site-packages (from importlib-metadata!=4.7.0,<8,>=3.7.0->mlflow-skinny==2.15.1->mlflow) (3.17.0)\n",
      "Requirement already satisfied: deprecated>=1.2.6 in c:\\users\\admin\\anaconda3\\lib\\site-packages (from opentelemetry-api<3,>=1.9.0->mlflow-skinny==2.15.1->mlflow) (1.2.14)\n",
      "Requirement already satisfied: opentelemetry-semantic-conventions==0.47b0 in c:\\users\\admin\\anaconda3\\lib\\site-packages (from opentelemetry-sdk<3,>=1.9.0->mlflow-skinny==2.15.1->mlflow) (0.47b0)\n",
      "Requirement already satisfied: charset-normalizer<4,>=2 in c:\\users\\admin\\anaconda3\\lib\\site-packages (from requests<3,>=2.17.3->mlflow-skinny==2.15.1->mlflow) (2.0.4)\n",
      "Requirement already satisfied: idna<4,>=2.5 in c:\\users\\admin\\anaconda3\\lib\\site-packages (from requests<3,>=2.17.3->mlflow-skinny==2.15.1->mlflow) (3.7)\n",
      "Requirement already satisfied: certifi>=2017.4.17 in c:\\users\\admin\\anaconda3\\lib\\site-packages (from requests<3,>=2.17.3->mlflow-skinny==2.15.1->mlflow) (2024.7.4)\n",
      "Requirement already satisfied: wrapt<2,>=1.10 in c:\\users\\admin\\anaconda3\\lib\\site-packages (from deprecated>=1.2.6->opentelemetry-api<3,>=1.9.0->mlflow-skinny==2.15.1->mlflow) (1.14.1)\n",
      "Requirement already satisfied: smmap<5,>=3.0.1 in c:\\users\\admin\\anaconda3\\lib\\site-packages (from gitdb<5,>=4.0.1->gitpython<4,>=3.1.9->mlflow-skinny==2.15.1->mlflow) (4.0.0)\n",
      "Requirement already satisfied: pyasn1-modules>=0.2.1 in c:\\users\\admin\\anaconda3\\lib\\site-packages (from google-auth~=2.0->databricks-sdk<1,>=0.20.0->mlflow-skinny==2.15.1->mlflow) (0.2.8)\n",
      "Requirement already satisfied: rsa<5,>=3.1.4 in c:\\users\\admin\\anaconda3\\lib\\site-packages (from google-auth~=2.0->databricks-sdk<1,>=0.20.0->mlflow-skinny==2.15.1->mlflow) (4.9)\n",
      "Requirement already satisfied: pyasn1<0.5.0,>=0.4.6 in c:\\users\\admin\\anaconda3\\lib\\site-packages (from pyasn1-modules>=0.2.1->google-auth~=2.0->databricks-sdk<1,>=0.20.0->mlflow-skinny==2.15.1->mlflow) (0.4.8)\n"
     ]
    }
   ],
   "source": [
    "!pip install mlflow"
   ]
  },
  {
   "cell_type": "code",
   "execution_count": null,
   "id": "18bb0979-adf7-4b7f-ba79-d534fa8e2436",
   "metadata": {},
   "outputs": [],
   "source": []
  }
 ],
 "metadata": {
  "kernelspec": {
   "display_name": "Python 3 (ipykernel)",
   "language": "python",
   "name": "python3"
  },
  "language_info": {
   "codemirror_mode": {
    "name": "ipython",
    "version": 3
   },
   "file_extension": ".py",
   "mimetype": "text/x-python",
   "name": "python",
   "nbconvert_exporter": "python",
   "pygments_lexer": "ipython3",
   "version": "3.12.4"
  }
 },
 "nbformat": 4,
 "nbformat_minor": 5
}
